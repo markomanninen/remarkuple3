{
 "cells": [
  {
   "cell_type": "markdown",
   "metadata": {},
   "source": [
    "# Tests for remarkuple 3\n",
    "\n",
    "Remarkuple XML/HTML tag generator (or factory if you prefer it that way): https://github.com/markomanninen/remarkuple3\n",
    "\n",
    "Jupyter notebook extension for running tests is forged from: https://gist.github.com/jiffyclub/4013594\n",
    "\n",
    "Modifications for runtests concerns only output so that instead of plain text output I'm using more pleasant html table format.\n",
    "\n",
    "## Load ipyntester extension and runaway function"
   ]
  },
  {
   "cell_type": "code",
   "execution_count": 1,
   "metadata": {
    "collapsed": false
   },
   "outputs": [
    {
     "name": "stdout",
     "output_type": "stream",
     "text": [
      "The ipynbtester module is not an IPython extension.\n"
     ]
    }
   ],
   "source": [
    "%load_ext ipynbtester"
   ]
  },
  {
   "cell_type": "markdown",
   "metadata": {},
   "source": [
    "While loading extension, IPython notebook informs that module is not part of the core distribution, but third party module instead.\n",
    "\n",
    "## Import libraries for tests"
   ]
  },
  {
   "cell_type": "code",
   "execution_count": 2,
   "metadata": {
    "collapsed": false
   },
   "outputs": [],
   "source": [
    "from remarkuple import helper as h, table, concat"
   ]
  },
  {
   "cell_type": "markdown",
   "metadata": {},
   "source": [
    "## Define tests"
   ]
  },
  {
   "cell_type": "code",
   "execution_count": 3,
   "metadata": {
    "collapsed": false
   },
   "outputs": [],
   "source": [
    "tag = None\n",
    "def set_up():\n",
    "    global tag\n",
    "    tag = h.tag\n",
    "\n",
    "def test_tag_is_tag():\n",
    "    set_up()\n",
    "    assert tag == tag\n",
    "\n",
    "def test_tag_is_called_tag():\n",
    "    set_up()\n",
    "    assert tag != tag()\n",
    "\n",
    "def test_string_uncalled_tag():\n",
    "    set_up()\n",
    "    assert str(tag) == \"<class 'remarkuple.main.tag'>\"\n",
    "\n",
    "def test_get_tag_name():\n",
    "    set_up()\n",
    "    assert tag().__class__.__name__ == 'tag'\n",
    "\n",
    "def test_single_tag_without_content_and_attributes():\n",
    "    set_up()\n",
    "    assert str(tag()) == '<tag/>'\n",
    "\n",
    "def test_single_tag_with_empty_content():\n",
    "    set_up()\n",
    "    assert str(tag('')) == '<tag></tag>'\n",
    "\n",
    "def test_tag_with_text_content():\n",
    "    set_up()\n",
    "    assert str(tag('text')) == '<tag>text</tag>'\n",
    "\n",
    "def test_tag_with_tag_content():\n",
    "    set_up()\n",
    "    assert str(tag(tag())) == '<tag><tag/></tag>'\n",
    "\n",
    "def test_tag_with_two_args_tags():\n",
    "    set_up()\n",
    "    assert str(tag(tag, tag)) == '<tag><tag/><tag/></tag>'\n",
    "\n",
    "def test_tag_with_list_args():\n",
    "    set_up()\n",
    "    assert str(tag(*[tag, tag])) == '<tag><tag/><tag/></tag>'\n",
    "\n",
    "def test_tag_with_uncalled_tag_content():\n",
    "    set_up()\n",
    "    assert str(tag(tag)) == '<tag><tag/></tag>'\n",
    "\n",
    "def test_tag_add_content_method():\n",
    "    set_up()\n",
    "    assert str(tag(id=1).addContent(tag(id=2)).addContent(tag(id=3))) == '<tag id=\"1\"><tag id=\"2\"/><tag id=\"3\"/></tag>'\n",
    "\n",
    "def test_tag_add_content_plus_method():\n",
    "    set_up()\n",
    "    t = tag(id=1)\n",
    "    t += tag(id=2)\n",
    "    t += tag(id=3)\n",
    "    assert str(t) == '<tag id=\"1\"><tag id=\"2\"/><tag id=\"3\"/></tag>'\n",
    "\n",
    "def test_tag_with_str_num_tag_content():\n",
    "    set_up()\n",
    "    assert str(tag('a', 1, tag, 2, 'b')) == '<tag>a1<tag/>2b</tag>'\n",
    "\n",
    "def test_tag_argument_attribute_string():\n",
    "    set_up()\n",
    "    assert str(tag(key='value')) == '<tag key=\"value\"/>'\n",
    "\n",
    "def test_tag_argument_attribute_int():\n",
    "    set_up()\n",
    "    assert str(tag(value=1)) == '<tag value=\"1\"/>'\n",
    "\n",
    "def test_tag_dictionary_attribute_string():\n",
    "    set_up()\n",
    "    assert str(tag(**{'key': 'value'})) == '<tag key=\"value\"/>'\n",
    "\n",
    "def test_tag_dictionary_attribute_int():\n",
    "    set_up()\n",
    "    assert str(tag(**{'value': 1})) == '<tag value=\"1\"/>'\n",
    "\n",
    "def test_tag_set_attribute():\n",
    "    set_up()\n",
    "    assert str(tag().setAttribute('key', 'value')) == '<tag key=\"value\"/>'\n",
    "\n",
    "def test_tag_get_attribute():\n",
    "    set_up()\n",
    "    assert tag().setAttribute('key', 'value').getAttribute('key') == 'value'\n",
    "\n",
    "def test_tag_set_attribute_with_dot_notation():\n",
    "    set_up()\n",
    "    t = tag()\n",
    "    t.key = \"value\"\n",
    "    assert str(t) == '<tag key=\"value\"/>'\n",
    "\n",
    "def test_tag_set_get_attribute_with_dot_notation():\n",
    "    set_up()\n",
    "    assert tag().setAttribute('key', 'value').key == \"value\"\n",
    "\n",
    "def test_tag_reserved_word_attribute():\n",
    "    set_up()\n",
    "    assert str(tag(CLASS='tag')) == '<tag class=\"tag\"/>'\n",
    "\n",
    "def test_tag_reserve_word_name():\n",
    "    set_up()\n",
    "    assert str(h.DEL()) == '<del/>'\n",
    "\n",
    "def test_tag_reserve_word_set_name():\n",
    "    set_up()\n",
    "    assert str(h.create('DEL')) == '<DEL/>'\n",
    "\n",
    "def test_concat_tag2_after_tag1():\n",
    "    assert str(concat(h.tag(id=1), h.tag(id=2))) == '<tag id=\"1\"/><tag id=\"2\"/>'\n",
    "\n",
    "def test_concat_number_tag_and_string_together():\n",
    "    assert str(concat(1, h.tag(), \"2\", h.tag(), 3)) == '1<tag/>2<tag/>3'\n",
    "\n",
    "tbl = None\n",
    "def set_up_table():\n",
    "    global tbl\n",
    "    tbl = table(Class='data')\n",
    "    \n",
    "def test_table():\n",
    "    set_up_table()\n",
    "    assert str(tbl) == '<table class=\"data\"/>'\n",
    "\n",
    "def test_table_caption():\n",
    "    set_up_table()\n",
    "    tbl.addCaption('Caption')\n",
    "    assert str(tbl) == '<table class=\"data\"><caption>Caption</caption></table>'\n",
    "\n",
    "def test_table_colgroup():\n",
    "    set_up_table()\n",
    "    tbl.addColGroup(h.col(), h.col())\n",
    "    assert str(tbl) == '<table class=\"data\"><colgroup><col/><col/></colgroup></table>'\n",
    "\n",
    "def test_table_head():\n",
    "    set_up_table()\n",
    "    tbl.addHeadRow(h.tr(h.th('head')))\n",
    "    assert str(tbl) == '<table class=\"data\"><thead><tr><th>head</th></tr></thead></table>'\n",
    "\n",
    "def test_table_foot():\n",
    "    set_up_table()\n",
    "    tbl.addFootRow(h.tr(h.td('foot')))\n",
    "    assert str(tbl) == '<table class=\"data\"><tfoot><tr><td>foot</td></tr></tfoot></table>'\n",
    "\n",
    "def test_table_body():\n",
    "    set_up_table()\n",
    "    tbl.addBodyRow(h.tr(h.td('body 1.1')))\n",
    "    tbl.addBodyRow(h.tr(h.td('body 1.2')))\n",
    "    assert str(tbl) == '<table class=\"data\"><tbody><tr><td>body 1.1</td></tr><tr><td>body 1.2</td></tr></tbody></table>'\n",
    "\n",
    "def test_table_bodies():\n",
    "    set_up_table()\n",
    "    tbl.addBodyRows(h.tr(h.td('body 2.1')))\n",
    "    tbl.addBodyRows(h.tr(h.td('body 3.1')))\n",
    "    assert str(tbl) == '<table class=\"data\"><tbody><tr><td>body 2.1</td></tr></tbody><tbody><tr><td>body 3.1</td></tr></tbody></table>'\n",
    "\n",
    "def test_whole_table():\n",
    "    t = get_table()\n",
    "    assert str(t) == '<table class=\"data\"><caption>Caption</caption><colgroup><col class=\"col1\"/><col class=\"col2\"/><col class=\"col3\"/></colgroup><thead><tr><th>Column 1</th><th>Column 2</th><th>Column 3</th></tr></thead><tfoot><tr><td colspan=\"3\">footer</td></tr></tfoot><tbody><tr><td>1.1</td><td>2.1</td><td>3.1</td></tr><tr><td>1.2</td><td>2.2</td><td>3.2</td></tr><tr><td>1.3</td><td>2.3</td><td>3.3</td></tr></tbody><tbody id=\"tbody4\"><tr><td>1.4</td><td>2.4</td><td>3.4</td></tr></tbody></table>'\n",
    "\n",
    "def get_table():\n",
    "    \n",
    "    t = table(**{'class': 'data'})\n",
    "\n",
    "    t.addCaption('Caption')\n",
    "\n",
    "    columns = [{'class': 'col1'},\n",
    "               {'class': 'col2'},\n",
    "               {'class': 'col3'}]\n",
    "\n",
    "    t.addColGroup(*[h.col(**attr) for attr in columns])\n",
    "\n",
    "    header = ['Column 1', 'Column 2', 'Column 3']\n",
    "\n",
    "    t.addHeadRow(h.tr(*map(h.th, header)))\n",
    "\n",
    "    for i in range(1,4):\n",
    "        t.addBodyRow(h.tr(*map(h.td, [\"1.%s\"%i,\"2.%s\"%i,\"3.%s\"%i])))\n",
    "\n",
    "    for i in range(4,5):\n",
    "        t.addBodyRows(h.tr(*map(h.td, [\"1.%s\"%i,\"2.%s\"%i,\"3.%s\"%i])), id='tbody%s'%i)\n",
    "    \n",
    "    t.addFootRow(h.tr(h.td('footer', colspan=\"3\")))\n",
    "    \n",
    "    return t"
   ]
  },
  {
   "cell_type": "markdown",
   "metadata": {},
   "source": [
    "## Show example table made with remarkuple"
   ]
  },
  {
   "cell_type": "code",
   "execution_count": 4,
   "metadata": {
    "collapsed": false
   },
   "outputs": [
    {
     "data": {
      "text/html": [
       "<table class=\"data\"><caption>Caption</caption><colgroup><col class=\"col1\"/><col class=\"col2\"/><col class=\"col3\"/></colgroup><thead><tr><th>Column 1</th><th>Column 2</th><th>Column 3</th></tr></thead><tfoot><tr><td colspan=\"3\">footer</td></tr></tfoot><tbody><tr><td>1.1</td><td>2.1</td><td>3.1</td></tr><tr><td>1.2</td><td>2.2</td><td>3.2</td></tr><tr><td>1.3</td><td>2.3</td><td>3.3</td></tr></tbody><tbody id=\"tbody4\"><tr><td>1.4</td><td>2.4</td><td>3.4</td></tr></tbody></table>"
      ],
      "text/plain": [
       "<remarkuple.table.table.<locals>.table at 0x106923b70>"
      ]
     },
     "execution_count": 4,
     "metadata": {},
     "output_type": "execute_result"
    }
   ],
   "source": [
    "from IPython.display import HTML\n",
    "get_table()"
   ]
  },
  {
   "cell_type": "markdown",
   "metadata": {},
   "source": [
    "## Run actual tests"
   ]
  },
  {
   "cell_type": "code",
   "execution_count": 5,
   "metadata": {
    "collapsed": false
   },
   "outputs": [
    {
     "data": {
      "text/html": [
       "<table class=\"data\"><caption>Collected 35 tests.\n",
       "</caption><colgroup><col/><col/></colgroup><thead><tr><th>Test function name</th><th>Status</th></tr></thead><tfoot><tr><td class=\"right\">Successful</td><td>35</td></tr><tr><td class=\"right\">Failed</td><td>0</td></tr><tr><td class=\"right\">Errors</td><td>0</td></tr><tr><td class=\"right\">Execution</td><td>0.003459 seconds</td></tr></tfoot><tbody><tr class=\"successful\"><td>test_tag_reserved_word_attribute</td><td>successful</td></tr><tr class=\"successful\"><td>test_tag_argument_attribute_int</td><td>successful</td></tr><tr class=\"successful\"><td>test_tag_with_text_content</td><td>successful</td></tr><tr class=\"successful\"><td>test_whole_table</td><td>successful</td></tr><tr class=\"successful\"><td>test_tag_is_tag</td><td>successful</td></tr><tr class=\"successful\"><td>test_tag_reserve_word_set_name</td><td>successful</td></tr><tr class=\"successful\"><td>test_table_colgroup</td><td>successful</td></tr><tr class=\"successful\"><td>test_tag_is_called_tag</td><td>successful</td></tr><tr class=\"successful\"><td>test_table_bodies</td><td>successful</td></tr><tr class=\"successful\"><td>test_table_foot</td><td>successful</td></tr><tr class=\"successful\"><td>test_tag_dictionary_attribute_int</td><td>successful</td></tr><tr class=\"successful\"><td>test_table_caption</td><td>successful</td></tr><tr class=\"successful\"><td>test_tag_with_list_args</td><td>successful</td></tr><tr class=\"successful\"><td>test_single_tag_without_content_and_attributes</td><td>successful</td></tr><tr class=\"successful\"><td>test_tag_reserve_word_name</td><td>successful</td></tr><tr class=\"successful\"><td>test_tag_argument_attribute_string</td><td>successful</td></tr><tr class=\"successful\"><td>test_tag_with_tag_content</td><td>successful</td></tr><tr class=\"successful\"><td>test_get_tag_name</td><td>successful</td></tr><tr class=\"successful\"><td>test_tag_with_uncalled_tag_content</td><td>successful</td></tr><tr class=\"successful\"><td>test_concat_number_tag_and_string_together</td><td>successful</td></tr><tr class=\"successful\"><td>test_table_body</td><td>successful</td></tr><tr class=\"successful\"><td>test_tag_with_two_args_tags</td><td>successful</td></tr><tr class=\"successful\"><td>test_tag_set_attribute_with_dot_notation</td><td>successful</td></tr><tr class=\"successful\"><td>test_tag_dictionary_attribute_string</td><td>successful</td></tr><tr class=\"successful\"><td>test_tag_set_attribute</td><td>successful</td></tr><tr class=\"successful\"><td>test_tag_add_content_method</td><td>successful</td></tr><tr class=\"successful\"><td>test_single_tag_with_empty_content</td><td>successful</td></tr><tr class=\"successful\"><td>test_tag_with_str_num_tag_content</td><td>successful</td></tr><tr class=\"successful\"><td>test_tag_add_content_plus_method</td><td>successful</td></tr><tr class=\"successful\"><td>test_concat_tag2_after_tag1</td><td>successful</td></tr><tr class=\"successful\"><td>test_tag_get_attribute</td><td>successful</td></tr><tr class=\"successful\"><td>test_tag_set_get_attribute_with_dot_notation</td><td>successful</td></tr><tr class=\"successful\"><td>test_table_head</td><td>successful</td></tr><tr class=\"successful\"><td>test_string_uncalled_tag</td><td>successful</td></tr><tr class=\"successful\"><td>test_table</td><td>successful</td></tr></tbody></table>"
      ],
      "text/plain": [
       "<IPython.core.display.HTML object>"
      ]
     },
     "execution_count": 5,
     "metadata": {},
     "output_type": "execute_result"
    }
   ],
   "source": [
    "%runaway"
   ]
  },
  {
   "cell_type": "markdown",
   "metadata": {},
   "source": [
    "## Styles for table"
   ]
  },
  {
   "cell_type": "code",
   "execution_count": 6,
   "metadata": {
    "collapsed": false
   },
   "outputs": [
    {
     "data": {
      "text/html": [
       "<style>/**\n",
       " * Copyright: Marko Manninen, 04/2016 (https://www.github.com/markomanninen)\n",
       " */\n",
       ".rendered_html table,\n",
       ".rendered_html tr,\n",
       ".rendered_html th,\n",
       ".rendered_html td {\n",
       "    border: 0\n",
       "}\n",
       "\n",
       "table.data {\n",
       "    color: black;\n",
       "    border: 0;\n",
       "\tmargin: 1.5em auto;\n",
       "\tborder-bottom: 1px solid #999;\n",
       "\tborder-collapse: collapse;\n",
       "\t-webkit-border-top-left-radius: 8px;\n",
       "\t-webkit-border-top-right-radius: 8px;\n",
       "\t-moz-border-radius: 8px 8px 0 0;\n",
       "\tborder-radius: 8px 8px 0 0;\n",
       "\tbackground: #444;\n",
       "}\n",
       "table.data caption {\n",
       "    margin-bottom: .75em;\n",
       "    text-align: center;\n",
       "\tfont-style: italic;\n",
       "}\n",
       "table.data td {\n",
       "\t-moz-transition: background 0.2s linear;\n",
       "\t-o-transition: background 0.2s linear;\n",
       "\ttransition: background 0.2s linear;\n",
       "\twhite-space: nowrap;\n",
       "\tborder-top: 1px solid #eee;\n",
       "\tborder-left: 1px solid #eee;\n",
       "\tpadding: 0.4em 0.8em;\n",
       "\tbackground: #fff;\n",
       "}\n",
       "table.data tfoot,\n",
       "table.data tbody {\n",
       "    outline-offset: -1px;\n",
       "    outline: 1px solid #ccc;\n",
       "}\n",
       "\n",
       "table.data thead {}\n",
       "table.data thead th {\n",
       "\tborder: none;\n",
       "    border-bottom: 2px solid #eee;\n",
       "\tbackground: transparent;\n",
       "\tcolor: #fff;\n",
       "\ttext-align: center;\n",
       "\tcursor: pointer;\n",
       "    padding: 0.4em 0.8em;\n",
       "}\n",
       "\n",
       "table.data tbody {}\n",
       "table.data tbody tr:hover td {\n",
       "\tbackground: #ffe;\n",
       "    color: black;\n",
       "}\n",
       "table.data tbody tr td:hover {\n",
       "\tbackground: #f5f6d2;\n",
       "}\n",
       "table.data tbody tr td:last-child {\n",
       "\ttext-align: center\n",
       "}\n",
       "\n",
       "table.data tbody tr th {\n",
       "\tcolor: white;\n",
       "    padding: 0.4em 0.8em;\n",
       "    text-transform: uppercase\n",
       "}\n",
       "\n",
       "\n",
       "table.data tfoot {}\n",
       "table.data tfoot td {\n",
       "    padding: 0.4em 0.8em;\n",
       "\ttext-align: center;\n",
       "\tfont-style: italic;\n",
       "}\n",
       "\n",
       "table.data .right {\n",
       "    text-align: right\n",
       "}\n",
       "\n",
       "table.data tr.ok td {background-color: white;}\n",
       "table.data tr.failed td {background-color: red; color: white}\n",
       "table.data tr.error td {background-color: lightpink}\n",
       "table.data tbody.failures {}\n",
       "table.data tbody.errors {}\n",
       "</style>"
      ],
      "text/plain": [
       "<IPython.core.display.HTML object>"
      ]
     },
     "execution_count": 6,
     "metadata": {},
     "output_type": "execute_result"
    }
   ],
   "source": [
    "from IPython.core.display import HTML\n",
    "with open('ipynbtester_style.css') as f:\n",
    "    css = f.read()\n",
    "HTML('<style>%s</style>' % css)"
   ]
  },
  {
   "cell_type": "markdown",
   "metadata": {},
   "source": [
    "## The [MIT](http://choosealicense.com/licenses/mit/) License\n",
    "\n",
    "Copyright (c) 2016 Marko Manninen"
   ]
  },
  {
   "cell_type": "code",
   "execution_count": null,
   "metadata": {
    "collapsed": true
   },
   "outputs": [],
   "source": []
  }
 ],
 "metadata": {
  "kernelspec": {
   "display_name": "Python 3",
   "language": "python",
   "name": "python3"
  },
  "language_info": {
   "codemirror_mode": {
    "name": "ipython",
    "version": 3
   },
   "file_extension": ".py",
   "mimetype": "text/x-python",
   "name": "python",
   "nbconvert_exporter": "python",
   "pygments_lexer": "ipython3",
   "version": "3.5.1"
  }
 },
 "nbformat": 4,
 "nbformat_minor": 0
}
