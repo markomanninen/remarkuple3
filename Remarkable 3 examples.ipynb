{
 "cells": [
  {
   "cell_type": "markdown",
   "metadata": {},
   "source": [
    "# Remarkuple 3 examples\n",
    "\n",
    "Import remarkuple module:"
   ]
  },
  {
   "cell_type": "code",
   "execution_count": 1,
   "metadata": {
    "collapsed": false
   },
   "outputs": [],
   "source": [
    "from remarkuple import helper as h, table, svg"
   ]
  },
  {
   "cell_type": "markdown",
   "metadata": {},
   "source": [
    "## Basic HTML"
   ]
  },
  {
   "cell_type": "code",
   "execution_count": 2,
   "metadata": {
    "collapsed": false
   },
   "outputs": [
    {
     "name": "stdout",
     "output_type": "stream",
     "text": [
      "<div>text <a>link</a><b> bold</b><i> italic</i></div>\n"
     ]
    },
    {
     "data": {
      "text/html": [
       "<div>text <a>link</a><b> bold</b><i> italic</i></div>"
      ],
      "text/plain": [
       "<remarkuple.main.div at 0x1067eb3c8>"
      ]
     },
     "execution_count": 2,
     "metadata": {},
     "output_type": "execute_result"
    }
   ],
   "source": [
    "t = h.div('text ', h.a(\"link\"), h.b(\" bold\"), h.i(\" italic\"))\n",
    "print (t)\n",
    "t"
   ]
  },
  {
   "cell_type": "markdown",
   "metadata": {},
   "source": [
    "## HTML table"
   ]
  },
  {
   "cell_type": "code",
   "execution_count": 3,
   "metadata": {
    "collapsed": false
   },
   "outputs": [
    {
     "data": {
      "text/html": [
       "<table><caption>Contacts</caption><thead><tr><th>Title</th><th>Name</th><th>Phone</th></tr></thead><tbody><tr><td>Mr.</td><td>John</td><td>07868785831</td></tr><tr><td>Miss</td><td>Linda</td><td>0141-2244-5566</td></tr><tr><td>Master</td><td>Jack</td><td>0142-1212-1234</td></tr><tr><td>Mr.</td><td>Bush</td><td>911-911-911</td></tr></tbody></table>"
      ],
      "text/plain": [
       "<remarkuple.table.table.<locals>.table at 0x1067fc470>"
      ]
     },
     "execution_count": 3,
     "metadata": {},
     "output_type": "execute_result"
    }
   ],
   "source": [
    "csv = \"\"\"Title,Name,Phone\n",
    "Mr.,John,07868785831\n",
    "Miss,Linda,0141-2244-5566\n",
    "Master,Jack,0142-1212-1234\n",
    "Mr.,Bush,911-911-911\"\"\"\n",
    "\n",
    "tbl = table()\n",
    "tbl.addCaption(\"Contacts\")\n",
    "for idx, row in enumerate(csv.split(\"\\n\")):\n",
    "    if idx:\n",
    "        tbl.addBodyRow(h.tr(*[h.td(x) for x in row.split(\",\")]))\n",
    "    else:\n",
    "        tbl.addHeadRow(h.tr(*[h.th(x) for x in row.split(\",\")]))\n",
    "\n",
    "tbl"
   ]
  },
  {
   "cell_type": "markdown",
   "metadata": {},
   "source": [
    "## SVG graphics"
   ]
  },
  {
   "cell_type": "code",
   "execution_count": 4,
   "metadata": {
    "collapsed": false
   },
   "outputs": [
    {
     "name": "stdout",
     "output_type": "stream",
     "text": [
      "<svg height=\"400\" width=\"400\" viewbox=\"0 0 401 401\"><defs><pattern height=\"12.5\" width=\"12.5\" id=\"gitem4403935944\" patternunits=\"userSpaceOnUse\"><path d=\"M 12.5 0 L 0 0 0 12.5\" stroke=\"gray\" stroke-width=\"0.5\" fill=\"none\"/></pattern><pattern height=\"100.0\" width=\"100.0\" id=\"gid4403935944\" patternunits=\"userSpaceOnUse\"><path d=\"M 100.0 0 L 0 0 0 100.0\" stroke=\"gray\" stroke-width=\"1\" fill=\"none\"/><rect width=\"100.0\" height=\"100.0\" fill=\"url(#gitem4403935944)\"/></pattern></defs><rect height=\"401\" width=\"401\" fill=\"white\"/><rect height=\"401\" width=\"401\" fill=\"url(#gid4403935944)\"/><circle cy=\"200.0\" style=\"fill-opacity: 50%\" cx=\"200.0\" r=\"100\" fill=\"green\"/></svg>\n"
     ]
    },
    {
     "data": {
      "text/html": [
       "<svg height=\"400\" width=\"400\" viewbox=\"0 0 401 401\"><defs><pattern height=\"12.5\" width=\"12.5\" id=\"gitem4403935944\" patternunits=\"userSpaceOnUse\"><path d=\"M 12.5 0 L 0 0 0 12.5\" stroke=\"gray\" stroke-width=\"0.5\" fill=\"none\"/></pattern><pattern height=\"100.0\" width=\"100.0\" id=\"gid4403935944\" patternunits=\"userSpaceOnUse\"><path d=\"M 100.0 0 L 0 0 0 100.0\" stroke=\"gray\" stroke-width=\"1\" fill=\"none\"/><rect width=\"100.0\" height=\"100.0\" fill=\"url(#gitem4403935944)\"/></pattern></defs><rect height=\"401\" width=\"401\" fill=\"white\"/><rect height=\"401\" width=\"401\" fill=\"url(#gid4403935944)\"/><circle cy=\"200.0\" style=\"fill-opacity: 50%\" cx=\"200.0\" r=\"100\" fill=\"green\"/><defs><pattern height=\"12.5\" width=\"12.5\" id=\"gitem4403935944\" patternunits=\"userSpaceOnUse\"><path d=\"M 12.5 0 L 0 0 0 12.5\" stroke=\"gray\" stroke-width=\"0.5\" fill=\"none\"/></pattern><pattern height=\"100.0\" width=\"100.0\" id=\"gid4403935944\" patternunits=\"userSpaceOnUse\"><path d=\"M 100.0 0 L 0 0 0 100.0\" stroke=\"gray\" stroke-width=\"1\" fill=\"none\"/><rect width=\"100.0\" height=\"100.0\" fill=\"url(#gitem4403935944)\"/></pattern></defs><rect height=\"401\" width=\"401\" fill=\"white\"/><rect height=\"401\" width=\"401\" fill=\"url(#gid4403935944)\"/><circle cy=\"200.0\" style=\"fill-opacity: 50%\" cx=\"200.0\" r=\"100\" fill=\"green\"/></svg>"
      ],
      "text/plain": [
       "<remarkuple.svg.svg.<locals>.svg at 0x1067ebac8>"
      ]
     },
     "execution_count": 4,
     "metadata": {},
     "output_type": "execute_result"
    }
   ],
   "source": [
    "s = svg().set_axes(False).set_grid(True)\n",
    "s.set_circle(r=100, fill=\"green\", style=\"fill-opacity: 50%\")\n",
    "print (s)\n",
    "h.br\n",
    "s"
   ]
  },
  {
   "cell_type": "code",
   "execution_count": 5,
   "metadata": {
    "collapsed": false
   },
   "outputs": [
    {
     "name": "stdout",
     "output_type": "stream",
     "text": [
      "<svg height=\"400\" width=\"400\" viewbox=\"0 0 401 401\"/>\n"
     ]
    }
   ],
   "source": [
    "print (svg())"
   ]
  },
  {
   "cell_type": "markdown",
   "metadata": {},
   "source": [
    "## The [MIT](http://choosealicense.com/licenses/mit/) License\n",
    "\n",
    "Copyright (c) 2016 Marko Manninen"
   ]
  }
 ],
 "metadata": {
  "kernelspec": {
   "display_name": "Python 3",
   "language": "python",
   "name": "python3"
  },
  "language_info": {
   "codemirror_mode": {
    "name": "ipython",
    "version": 3
   },
   "file_extension": ".py",
   "mimetype": "text/x-python",
   "name": "python",
   "nbconvert_exporter": "python",
   "pygments_lexer": "ipython3",
   "version": "3.5.1"
  }
 },
 "nbformat": 4,
 "nbformat_minor": 0
}
