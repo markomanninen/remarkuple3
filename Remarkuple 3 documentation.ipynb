{
 "cells": [
  {
   "cell_type": "markdown",
   "metadata": {},
   "source": [
    "# Remarkuple 3 - XML/HTML tag generator/factory documentation\n",
    "\n",
    "For Python 2 library see: https://github.com/markomanninen/remarkuple\n",
    "\n",
    "## Design notes\n",
    "\n",
    "Purpose is to create a simple html generator for Python 3. Few other generators have been available since decade but they all seems to have small caveats. However combining features I've managed to create a library that fits better to my own projects.\n",
    "\n",
    "**Problems:**\n",
    "\n",
    "1. Some libraries use awkward CAPITAL letters, convention derived from early age of internet. I prefer small letters on tag and attribute names as specified on xhtml standard.\n",
    "2. Reserved words in Python language limits using some tag and tag attribute names. This has been tackled by allowing usage of CAPITAL letters on helper interface, but on the background letters are forced to lowercase. This however can be passed by using tag.setName and tag.setAttribute -methods. In this manner you can set any [html standard](http://www.w3.org/TR/2000/REC-xml-20001006#NT-Name) tag and attribute name on the document like `<my-tag dc:attr=\"\" />`\n",
    "3. I don't want to limit tags to html4 tag names only, but allow practically any tag name. See above.\n",
    "4. Sometimes content is transformed to html entities, which should not occur until very end of the business logic.\n",
    "\n",
    "**Other requirements:**\n",
    "\n",
    "As simple implementation as possible, no need for complicated page generation methods, just basic functionality. Extending tags for structures like table, lists and svg graphics. Nesting tags and giving attribute names should be clean and intuitive. Pythonic."
   ]
  },
  {
   "cell_type": "markdown",
   "metadata": {},
   "source": [
    "## Base class"
   ]
  },
  {
   "cell_type": "code",
   "execution_count": 1,
   "metadata": {
    "collapsed": false
   },
   "outputs": [],
   "source": [
    "class TAG(object):\n",
    "    def __init__(self, *args, **kw):\n",
    "        pass\n",
    "    def getAttribute(self, key):\n",
    "        pass\n",
    "    def setAttribute(self, key, value):\n",
    "        pass\n",
    "    def addContent(self, item):\n",
    "        pass"
   ]
  },
  {
   "cell_type": "markdown",
   "metadata": {},
   "source": [
    "## Helper"
   ]
  },
  {
   "cell_type": "code",
   "execution_count": 2,
   "metadata": {
    "collapsed": false
   },
   "outputs": [],
   "source": [
    "class htmlHelper(object):\n",
    "    def create(self, name):\n",
    "        pass\n",
    "    def __getattr__(self, tag):\n",
    "        pass"
   ]
  },
  {
   "cell_type": "markdown",
   "metadata": {},
   "source": [
    "## Usage"
   ]
  },
  {
   "cell_type": "code",
   "execution_count": 3,
   "metadata": {
    "collapsed": false
   },
   "outputs": [],
   "source": [
    "from remarkuple import helper as h, concat"
   ]
  },
  {
   "cell_type": "code",
   "execution_count": 4,
   "metadata": {
    "collapsed": false
   },
   "outputs": [
    {
     "name": "stdout",
     "output_type": "stream",
     "text": [
      "<html><head><title>Simple html document</title></head><body>Content</body></html>\n"
     ]
    }
   ],
   "source": [
    "# introducing the main flow of the nesting tags\n",
    "print (h.html(h.head(h.title(\"Simple html document\")), h.body(\"Content\")))"
   ]
  },
  {
   "cell_type": "code",
   "execution_count": 5,
   "metadata": {
    "collapsed": false
   },
   "outputs": [
    {
     "name": "stdout",
     "output_type": "stream",
     "text": [
      "<br/>\n"
     ]
    }
   ],
   "source": [
    "# a tag without content will be output as a short tag form\n",
    "print (h.br())"
   ]
  },
  {
   "cell_type": "code",
   "execution_count": 6,
   "metadata": {
    "collapsed": false
   },
   "outputs": [
    {
     "name": "stdout",
     "output_type": "stream",
     "text": [
      "<script></script>\n"
     ]
    }
   ],
   "source": [
    "# if you pass empty string on tag content, closing tag will be generated\n",
    "print (h.script(''))"
   ]
  },
  {
   "cell_type": "code",
   "execution_count": 7,
   "metadata": {
    "collapsed": false
   },
   "outputs": [
    {
     "name": "stdout",
     "output_type": "stream",
     "text": [
      "<h1>Header 1<span>.1</span></h1>\n"
     ]
    }
   ],
   "source": [
    "# content can be a string, a numeric or other tag elements\n",
    "print (h.h1(\"Header \", 1, h.span(\".1\")))"
   ]
  },
  {
   "cell_type": "code",
   "execution_count": 8,
   "metadata": {
    "collapsed": false
   },
   "outputs": [
    {
     "name": "stdout",
     "output_type": "stream",
     "text": [
      "<div>[0, 1]{'k': <remarkuple.main.b object at 0x106927860>}</div>\n"
     ]
    }
   ],
   "source": [
    "# providing other content can yield unexpected results because all will be string normalized\n",
    "print (h.div([0,1], {'k': h.b()}))"
   ]
  },
  {
   "cell_type": "code",
   "execution_count": 9,
   "metadata": {
    "collapsed": false
   },
   "outputs": [
    {
     "name": "stdout",
     "output_type": "stream",
     "text": [
      "<p><br/></p>\n"
     ]
    }
   ],
   "source": [
    "# content can be callable\n",
    "print (h.p(h.br))"
   ]
  },
  {
   "cell_type": "code",
   "execution_count": 10,
   "metadata": {
    "collapsed": false
   },
   "outputs": [
    {
     "name": "stdout",
     "output_type": "stream",
     "text": [
      "<div><ul><li/></ul></div>\n"
     ]
    }
   ],
   "source": [
    "# as said, content can be callable\n",
    "def ul():\n",
    "    return h.ul(h.li)\n",
    "print (h.div(ul))"
   ]
  },
  {
   "cell_type": "code",
   "execution_count": 11,
   "metadata": {
    "collapsed": false
   },
   "outputs": [
    {
     "name": "stdout",
     "output_type": "stream",
     "text": [
      "<h1>Header 1.<span>2</span></h1>\n"
     ]
    }
   ],
   "source": [
    "# adding more content inside the element\n",
    "# operator used here += is same as tag.addContent method\n",
    "h1 = h.h1('Header')\n",
    "h1 += \" 1.\"\n",
    "h1 += h.span(\"2\")\n",
    "print (h1)"
   ]
  },
  {
   "cell_type": "code",
   "execution_count": 12,
   "metadata": {
    "collapsed": false
   },
   "outputs": [
    {
     "name": "stdout",
     "output_type": "stream",
     "text": [
      "<h1/><h2/><h3/>\n"
     ]
    }
   ],
   "source": [
    "# concatenating elements\n",
    "h1 = h.h1()\n",
    "print (concat(h1, h.h2(), h.h3))"
   ]
  },
  {
   "cell_type": "code",
   "execution_count": 13,
   "metadata": {
    "collapsed": false
   },
   "outputs": [
    {
     "name": "stdout",
     "output_type": "stream",
     "text": [
      "<h1><span/><span/><span/></h1>\n"
     ]
    }
   ],
   "source": [
    "# chain arguments\n",
    "print (h.h1(h.span(), h.span(), h.span()))"
   ]
  },
  {
   "cell_type": "code",
   "execution_count": 14,
   "metadata": {
    "collapsed": false
   },
   "outputs": [
    {
     "name": "stdout",
     "output_type": "stream",
     "text": [
      "<h1><span/><span/><span/></h1>\n"
     ]
    }
   ],
   "source": [
    "# chain arguments by list\n",
    "print (h.h1(*[h.span, h.span, h.span]))"
   ]
  },
  {
   "cell_type": "code",
   "execution_count": 15,
   "metadata": {
    "collapsed": false
   },
   "outputs": [
    {
     "name": "stdout",
     "output_type": "stream",
     "text": [
      "<div title=\"Content container\" id=\"container\"/>\n"
     ]
    }
   ],
   "source": [
    "# add attributes\n",
    "print (h.div(id=\"container\", title=\"Content container\"))"
   ]
  },
  {
   "cell_type": "code",
   "execution_count": 16,
   "metadata": {
    "collapsed": false
   },
   "outputs": [
    {
     "name": "stdout",
     "output_type": "stream",
     "text": [
      "<div id=\"container\" title=\"Content container\"/>\n"
     ]
    }
   ],
   "source": [
    "# add attributes by dictionary\n",
    "print (h.div(**{'id': \"container\", 'title':\"Content container\"}))"
   ]
  },
  {
   "cell_type": "code",
   "execution_count": 17,
   "metadata": {
    "collapsed": false
   },
   "outputs": [
    {
     "name": "stdout",
     "output_type": "stream",
     "text": [
      "<del class=\"reserved\"/>\n"
     ]
    }
   ],
   "source": [
    "# using python reserved words can be tackled with uppercase letters or capitalization\n",
    "# h.del or h.tag(class=\"\") doesn't work but gives parse error. instead use something like:\n",
    "print (h.DEL(Class=\"reserved\"))"
   ]
  },
  {
   "cell_type": "code",
   "execution_count": 18,
   "metadata": {
    "collapsed": false
   },
   "outputs": [
    {
     "name": "stdout",
     "output_type": "stream",
     "text": [
      "<DEL Class=\"reserved\"/>\n"
     ]
    }
   ],
   "source": [
    "# but if you really want uppercase tag names or attributes, \n",
    "# you can use setName and setAttribute methods\n",
    "print (h.create('DEL').setAttribute('Class', 'reserved'))"
   ]
  },
  {
   "cell_type": "code",
   "execution_count": 19,
   "metadata": {
    "collapsed": false
   },
   "outputs": [
    {
     "name": "stdout",
     "output_type": "stream",
     "text": [
      "<my-tag dc:name=\"special\">content</my-tag>\n"
     ]
    }
   ],
   "source": [
    "# special attribute and tag names can be handled with setters.\n",
    "# h.my-tag(dc:name = \"special\") doesn't work because of naming convention rules on python\n",
    "# so you need to do:\n",
    "print (h.create(\"my-tag\").addContent(\"content\").setAttribute('dc:name', 'special'))"
   ]
  },
  {
   "cell_type": "markdown",
   "metadata": {},
   "source": [
    "## Table extension class"
   ]
  },
  {
   "cell_type": "code",
   "execution_count": 20,
   "metadata": {
    "collapsed": false
   },
   "outputs": [],
   "source": [
    "class table(type(h.table())):\n",
    "    def __init__(self, *args, **kw):\n",
    "        pass\n",
    "    \n",
    "    def addCaption(self, caption, **kw):\n",
    "        pass\n",
    "    \n",
    "    def addColGroup(self, *cols, **kw):\n",
    "        pass\n",
    "    \n",
    "    def addHeadRow(self, *trs, **kw):\n",
    "        pass\n",
    "    \n",
    "    def addFootRow(self, *trs, **kw):\n",
    "        pass\n",
    "    \n",
    "    def addBodyRow(self, *trs, **kw):\n",
    "        pass\n",
    "    \n",
    "    def addBodyRows(self, *trs, **kw):\n",
    "        pass"
   ]
  },
  {
   "cell_type": "code",
   "execution_count": 21,
   "metadata": {
    "collapsed": false
   },
   "outputs": [
    {
     "name": "stdout",
     "output_type": "stream",
     "text": [
      "<table class=\"data\"><thead><tr><th>1</th><th>2</th><th>3</th></tr></thead><tbody><tr><td>1.1</td><td>2.1</td><td>3.1</td></tr><tr><td>1.2</td><td>2.2</td><td>3.2</td></tr><tr><td>1.3</td><td>2.3</td><td>3.3</td></tr></tbody></table>\n"
     ]
    },
    {
     "data": {
      "text/html": [
       "<table class=\"data\"><thead><tr><th>1</th><th>2</th><th>3</th></tr></thead><tbody><tr><td>1.1</td><td>2.1</td><td>3.1</td></tr><tr><td>1.2</td><td>2.2</td><td>3.2</td></tr><tr><td>1.3</td><td>2.3</td><td>3.3</td></tr></tbody></table>"
      ],
      "text/plain": [
       "<remarkuple.main.table at 0x1069372b0>"
      ]
     },
     "execution_count": 21,
     "metadata": {},
     "output_type": "execute_result"
    }
   ],
   "source": [
    "# sure you can make tables with core table tags\n",
    "tbl = h.table(CLASS=\"data\")\n",
    "tbl += h.thead(h.tr(*map(h.th, [1,2,3])))\n",
    "tbl += h.tbody(*[h.tr(*map(h.td, [\"1.%s\"%i,\"2.%s\"%i,\"3.%s\"%i])) for i in [1,2,3]])\n",
    "\n",
    "print (tbl)\n",
    "tbl"
   ]
  },
  {
   "cell_type": "code",
   "execution_count": 22,
   "metadata": {
    "collapsed": false
   },
   "outputs": [
    {
     "data": {
      "text/html": [
       "<table id=\"data\"><caption>Caption</caption><colgroup><col style=\"background-color: red\"/><col style=\"background-color: green\"/><col style=\"background-color: blue\"/></colgroup><thead><tr><th>Column 1</th><th>Column 2</th><th>Column 3</th></tr></thead><tfoot><tr><td colspan=\"3\">footer</td></tr></tfoot><tbody><tr><td>1.1</td><td>2.1</td><td>3.1</td></tr><tr><td>1.2</td><td>2.2</td><td>3.2</td></tr></tbody><tbody id=\"tbody3\"><tr><td>1.3</td><td>2.3</td><td>3.3</td></tr></tbody><tbody id=\"tbody4\"><tr><td>1.4</td><td>2.4</td><td>3.4</td></tr></tbody></table>"
      ],
      "text/plain": [
       "<remarkuple.table.table.<locals>.table at 0x10693f0b8>"
      ]
     },
     "execution_count": 22,
     "metadata": {},
     "output_type": "execute_result"
    }
   ],
   "source": [
    "# but using special table factory function structuring table is easier\n",
    "from remarkuple import table\n",
    "\n",
    "# initialize table\n",
    "t = table(**{'id': 'data'})\n",
    "\n",
    "# add caption title\n",
    "t.addCaption('Caption')\n",
    "\n",
    "columns = [{'style': 'background-color: red'},\n",
    "           {'style': 'background-color: green'},\n",
    "           {'style': 'background-color: blue'}]\n",
    "\n",
    "# add column definitions\n",
    "t.addColGroup(*[h.col(**attr) for attr in columns])\n",
    "\n",
    "header = ['Column 1', 'Column 2', 'Column 3']\n",
    "\n",
    "# add header row with column titles\n",
    "t.addHeadRow(h.tr(*map(h.th, header)))\n",
    "\n",
    "# add body rows\n",
    "for i in range(1,3):\n",
    "    t.addBodyRow(h.tr(*map(h.td, [\"1.%s\"%i,\"2.%s\"%i,\"3.%s\"%i])))\n",
    "\n",
    "# add separate bodies with rows\n",
    "for i in range(3,5):\n",
    "    t.addBodyRows(h.tr(*map(h.td, [\"1.%s\"%i,\"2.%s\"%i,\"3.%s\"%i])), id='tbody%s'%i)\n",
    "\n",
    "# add footer row\n",
    "t.addFootRow(h.tr(h.td('footer', colspan=\"3\")))\n",
    "\n",
    "t"
   ]
  },
  {
   "cell_type": "markdown",
   "metadata": {},
   "source": [
    "### Some styles for table"
   ]
  },
  {
   "cell_type": "code",
   "execution_count": 23,
   "metadata": {
    "collapsed": false
   },
   "outputs": [
    {
     "data": {
      "text/html": [
       "<style type=\"text/css\">\n",
       "table#data { margin: 1em auto; border-collapse: collapse; border: 0} \n",
       "table#data caption { font-size: 1.2em; text-align: center; padding: 3px} \n",
       "table#data th, table#data td { padding: .25em; border: 1px solid #000; font-family: sans-serif; color: white} \n",
       "table#data th { color: #004900; font-weight: bold; text-align: left; } \n",
       "table#data thead th { border-bottom: 3px double #000; background-color: #ddd; text-align: center; } \n",
       "table#data tfoot td { border-top: 3px double #000; color: #fff; font-style: italic; font-size: .8em; text-align: center; background-color: brown} \n",
       "table#data tbody th { color: #000; }\n",
       "table#data #tbody3 {font-weight: bold;font-size: 1.5em;}\n",
       "table#data #tbody4 {font-style: italic;}\n",
       "</style>"
      ],
      "text/plain": [
       "<IPython.core.display.HTML object>"
      ]
     },
     "metadata": {},
     "output_type": "display_data"
    }
   ],
   "source": [
    "%%html\n",
    "<style type=\"text/css\">\n",
    "table#data { margin: 1em auto; border-collapse: collapse; border: 0} \n",
    "table#data caption { font-size: 1.2em; text-align: center; padding: 3px} \n",
    "table#data th, table#data td { padding: .25em; border: 1px solid #000; font-family: sans-serif; color: white} \n",
    "table#data th { color: #004900; font-weight: bold; text-align: left; } \n",
    "table#data thead th { border-bottom: 3px double #000; background-color: #ddd; text-align: center; } \n",
    "table#data tfoot td { border-top: 3px double #000; color: #fff; font-style: italic; font-size: .8em; text-align: center; background-color: brown} \n",
    "table#data tbody th { color: #000; }\n",
    "table#data #tbody3 {font-weight: bold;font-size: 1.5em;}\n",
    "table#data #tbody4 {font-style: italic;}\n",
    "</style>"
   ]
  },
  {
   "cell_type": "markdown",
   "metadata": {},
   "source": [
    "## SVG class"
   ]
  },
  {
   "cell_type": "code",
   "execution_count": 24,
   "metadata": {
    "collapsed": false
   },
   "outputs": [],
   "source": [
    "class svg(type(h.svg())):\n",
    "    \n",
    "    def __init__(self, *args, **kw):\n",
    "        pass\n",
    "    \n",
    "    def set_grid(self, boolean):\n",
    "        pass\n",
    "    \n",
    "    def set_axis(self, boolean):\n",
    "        pass\n",
    "    \n",
    "    def set_origin(self, boolean):\n",
    "        pass\n",
    "    \n",
    "    def set_size(self, width, height):\n",
    "        pass\n",
    "    \n",
    "    def set_text(self, *args, **kw):\n",
    "        pass\n",
    "    \n",
    "    def set_rectangle(self, *args, **kw):\n",
    "        pass\n",
    "    \n",
    "    def set_group(self, *args, **kw):\n",
    "        pass\n",
    "    \n",
    "    def set_defs(self, *args, **kw):\n",
    "        pass\n",
    "    \n",
    "    def set_line(self, *args, **kw):\n",
    "        pass\n",
    "    \n",
    "    def set_circle(self, *args, **kw):\n",
    "        pass\n",
    "    \n",
    "    def set_triangle(self, *args, **kw):\n",
    "        pass\n",
    "    \n",
    "    def set_square(self, *args, **kw):\n",
    "        pass\n",
    "    \n",
    "    def set_pentagon(self, *args, **kw):\n",
    "        pass\n",
    "    \n",
    "    def set_hexagon(self, *args, **kw):\n",
    "        pass\n",
    "    \n",
    "    def set_regular_polygon(self, *args, **kw):\n",
    "        pass\n",
    "    \n",
    "    def polygon_points(self, vertex):\n",
    "        pass\n",
    "    \n",
    "    def vertex(self, cx = 0, cy = 0, sides = 4, radius = 1, degrees = 0):\n",
    "        pass"
   ]
  },
  {
   "cell_type": "code",
   "execution_count": 25,
   "metadata": {
    "collapsed": false
   },
   "outputs": [
    {
     "data": {
      "text/html": [
       "<svg width=\"400\" viewbox=\"0 0 401 401\" height=\"400\"><defs><pattern height=\"12.5\" width=\"12.5\" id=\"gitem4405228432\" patternunits=\"userSpaceOnUse\"><path stroke=\"gray\" d=\"M 12.5 0 L 0 0 0 12.5\" fill=\"none\" stroke-width=\"0.5\"/></pattern><pattern height=\"100.0\" width=\"100.0\" id=\"gid4405228432\" patternunits=\"userSpaceOnUse\"><path stroke=\"gray\" d=\"M 100.0 0 L 0 0 0 100.0\" fill=\"none\" stroke-width=\"1\"/><rect fill=\"url(#gitem4405228432)\" width=\"100.0\" height=\"100.0\"/></pattern></defs><rect fill=\"white\" width=\"401\" height=\"401\"/><rect fill=\"url(#gid4405228432)\" width=\"401\" height=\"401\"/><line stroke=\"black\" x2=\"200.0\" y1=\"0\" x1=\"200.0\" y2=\"400.0\"/><line stroke=\"black\" x2=\"400.0\" y1=\"200.0\" x1=\"0\" y2=\"200.0\"/><circle stroke=\"black\" fill=\"black\" style=\"fill-opacity: 50%\" cx=\"200.0\" r=\"2\" cy=\"200.0\"/><text x=\"205.0\" style=\"fill-opacity: 50%\" y=\"195.0\">(0,0)</text><circle stroke=\"white\" fill=\"darkgreen\" style=\"fill-opacity: 75%\" cx=\"200.0\" r=\"100\" cy=\"200.0\"/><circle cy=\"100.0\" cx=\"200.0\" r=\"4\"/><text x=\"205.0\" y=\"95.0\">(0,100)</text></svg>"
      ],
      "text/plain": [
       "<remarkuple.svg.svg.<locals>.svg at 0x106927390>"
      ]
     },
     "execution_count": 25,
     "metadata": {},
     "output_type": "execute_result"
    }
   ],
   "source": [
    "from remarkuple import svg\n",
    "\n",
    "s = svg().set_axes().set_grid().set_origin()\n",
    "s.set_circle(r=100, fill=\"darkgreen\", stroke=\"white\", style=\"fill-opacity: 75%\")\n",
    "s.set_circle(r=4, cx=0, cy=100)\n",
    "s.set_text(\"(0,100)\", x=5, y=105)\n",
    "\n",
    "s"
   ]
  },
  {
   "cell_type": "code",
   "execution_count": 26,
   "metadata": {
    "collapsed": false,
    "scrolled": true
   },
   "outputs": [
    {
     "data": {
      "text/html": [
       "<svg width=\"200\" viewbox=\"0 0 201 201\" height=\"200\"><circle cy=\"100.0\" cx=\"0.0\" r=\"0.0\"/><circle cy=\"100.0\" cx=\"100.0\" r=\"6.28318530718\"/><circle cy=\"100.0\" cx=\"100.0\" r=\"6.28318530718\"/><circle cy=\"100.0\" cx=\"0.0\" r=\"0.0\"/><circle cy=\"100.125333234\" cx=\"2.0\" r=\"0.125663706144\"/><circle cy=\"100.125333234\" cx=\"102.0\" r=\"6.15752160104\"/><circle cy=\"99.8746667664\" cx=\"102.0\" r=\"6.15752160104\"/><circle cy=\"99.8746667664\" cx=\"2.0\" r=\"0.125663706144\"/><circle cy=\"100.497379774\" cx=\"4.0\" r=\"0.251327412287\"/><circle cy=\"100.497379774\" cx=\"104.0\" r=\"6.03185789489\"/><circle cy=\"99.5026202257\" cx=\"104.0\" r=\"6.03185789489\"/><circle cy=\"99.5026202257\" cx=\"4.0\" r=\"0.251327412287\"/><circle cy=\"101.104373658\" cx=\"6.0\" r=\"0.376991118431\"/><circle cy=\"101.104373658\" cx=\"106.0\" r=\"5.90619418875\"/><circle cy=\"98.8956263419\" cx=\"106.0\" r=\"5.90619418875\"/><circle cy=\"98.8956263419\" cx=\"6.0\" r=\"0.376991118431\"/><circle cy=\"101.927014696\" cx=\"8.0\" r=\"0.502654824574\"/><circle cy=\"101.927014696\" cx=\"108.0\" r=\"5.78053048261\"/><circle cy=\"98.0729853036\" cx=\"108.0\" r=\"5.78053048261\"/><circle cy=\"98.0729853036\" cx=\"8.0\" r=\"0.502654824574\"/><circle cy=\"102.938926261\" cx=\"10.0\" r=\"0.628318530718\"/><circle cy=\"102.938926261\" cx=\"110.0\" r=\"5.65486677646\"/><circle cy=\"97.0610737385\" cx=\"110.0\" r=\"5.65486677646\"/><circle cy=\"97.0610737385\" cx=\"10.0\" r=\"0.628318530718\"/><circle cy=\"104.107282636\" cx=\"12.0\" r=\"0.753982236862\"/><circle cy=\"104.107282636\" cx=\"112.0\" r=\"5.52920307032\"/><circle cy=\"95.8927173644\" cx=\"112.0\" r=\"5.52920307032\"/><circle cy=\"95.8927173644\" cx=\"12.0\" r=\"0.753982236862\"/><circle cy=\"105.393592699\" cx=\"14.0\" r=\"0.879645943005\"/><circle cy=\"105.393592699\" cx=\"114.0\" r=\"5.40353936417\"/><circle cy=\"94.6064073006\" cx=\"114.0\" r=\"5.40353936417\"/><circle cy=\"94.6064073006\" cx=\"14.0\" r=\"0.879645943005\"/><circle cy=\"106.754623404\" cx=\"16.0\" r=\"1.00530964915\"/><circle cy=\"106.754623404\" cx=\"116.0\" r=\"5.27787565803\"/><circle cy=\"93.245376596\" cx=\"116.0\" r=\"5.27787565803\"/><circle cy=\"93.245376596\" cx=\"16.0\" r=\"1.00530964915\"/><circle cy=\"108.143443472\" cx=\"18.0\" r=\"1.13097335529\"/><circle cy=\"108.143443472\" cx=\"118.0\" r=\"5.15221195189\"/><circle cy=\"91.8565565278\" cx=\"118.0\" r=\"5.15221195189\"/><circle cy=\"91.8565565278\" cx=\"18.0\" r=\"1.13097335529\"/><circle cy=\"109.510565163\" cx=\"20.0\" r=\"1.25663706144\"/><circle cy=\"109.510565163\" cx=\"120.0\" r=\"5.02654824574\"/><circle cy=\"90.489434837\" cx=\"120.0\" r=\"5.02654824574\"/><circle cy=\"90.489434837\" cx=\"20.0\" r=\"1.25663706144\"/><circle cy=\"110.805159758\" cx=\"22.0\" r=\"1.38230076758\"/><circle cy=\"110.805159758\" cx=\"122.0\" r=\"4.9008845396\"/><circle cy=\"89.194840242\" cx=\"122.0\" r=\"4.9008845396\"/><circle cy=\"89.194840242\" cx=\"22.0\" r=\"1.38230076758\"/><circle cy=\"111.976320741\" cx=\"24.0\" r=\"1.50796447372\"/><circle cy=\"111.976320741\" cx=\"124.0\" r=\"4.77522083346\"/><circle cy=\"88.0236792589\" cx=\"124.0\" r=\"4.77522083346\"/><circle cy=\"88.0236792589\" cx=\"24.0\" r=\"1.50796447372\"/><circle cy=\"112.97434747\" cx=\"26.0\" r=\"1.63362817987\"/><circle cy=\"112.97434747\" cx=\"126.0\" r=\"4.64955712731\"/><circle cy=\"87.0256525304\" cx=\"126.0\" r=\"4.64955712731\"/><circle cy=\"87.0256525304\" cx=\"26.0\" r=\"1.63362817987\"/><circle cy=\"113.75202151\" cx=\"28.0\" r=\"1.75929188601\"/><circle cy=\"113.75202151\" cx=\"128.0\" r=\"4.52389342117\"/><circle cy=\"86.2479784898\" cx=\"128.0\" r=\"4.52389342117\"/><circle cy=\"86.2479784898\" cx=\"28.0\" r=\"1.75929188601\"/><circle cy=\"114.265847744\" cx=\"30.0\" r=\"1.88495559215\"/><circle cy=\"114.265847744\" cx=\"130.0\" r=\"4.39822971503\"/><circle cy=\"85.7341522556\" cx=\"130.0\" r=\"4.39822971503\"/><circle cy=\"85.7341522556\" cx=\"30.0\" r=\"1.88495559215\"/><circle cy=\"114.477232839\" cx=\"32.0\" r=\"2.0106192983\"/><circle cy=\"114.477232839\" cx=\"132.0\" r=\"4.27256600888\"/><circle cy=\"85.5227671605\" cx=\"132.0\" r=\"4.27256600888\"/><circle cy=\"85.5227671605\" cx=\"32.0\" r=\"2.0106192983\"/><circle cy=\"114.353574734\" cx=\"34.0\" r=\"2.13628300444\"/><circle cy=\"114.353574734\" cx=\"134.0\" r=\"4.14690230274\"/><circle cy=\"85.6464252665\" cx=\"134.0\" r=\"4.14690230274\"/><circle cy=\"85.6464252665\" cx=\"34.0\" r=\"2.13628300444\"/><circle cy=\"113.86923837\" cx=\"36.0\" r=\"2.26194671058\"/><circle cy=\"113.86923837\" cx=\"136.0\" r=\"4.02123859659\"/><circle cy=\"86.13076163\" cx=\"136.0\" r=\"4.02123859659\"/><circle cy=\"86.13076163\" cx=\"36.0\" r=\"2.26194671058\"/><circle cy=\"113.006395013\" cx=\"38.0\" r=\"2.38761041673\"/><circle cy=\"113.006395013\" cx=\"138.0\" r=\"3.89557489045\"/><circle cy=\"86.9936049874\" cx=\"138.0\" r=\"3.89557489045\"/><circle cy=\"86.9936049874\" cx=\"38.0\" r=\"2.38761041673\"/><circle cy=\"111.755705046\" cx=\"40.0\" r=\"2.51327412287\"/><circle cy=\"111.755705046\" cx=\"140.0\" r=\"3.76991118431\"/><circle cy=\"88.2442949542\" cx=\"140.0\" r=\"3.76991118431\"/><circle cy=\"88.2442949542\" cx=\"40.0\" r=\"2.51327412287\"/><circle cy=\"110.116827156\" cx=\"42.0\" r=\"2.63893782902\"/><circle cy=\"110.116827156\" cx=\"142.0\" r=\"3.64424747816\"/><circle cy=\"89.8831728439\" cx=\"142.0\" r=\"3.64424747816\"/><circle cy=\"89.8831728439\" cx=\"42.0\" r=\"2.63893782902\"/><circle cy=\"108.098740159\" cx=\"44.0\" r=\"2.76460153516\"/><circle cy=\"108.098740159\" cx=\"144.0\" r=\"3.51858377202\"/><circle cy=\"91.9012598409\" cx=\"144.0\" r=\"3.51858377202\"/><circle cy=\"91.9012598409\" cx=\"44.0\" r=\"2.76460153516\"/><circle cy=\"105.719867405\" cx=\"46.0\" r=\"2.8902652413\"/><circle cy=\"105.719867405\" cx=\"146.0\" r=\"3.39292006588\"/><circle cy=\"94.2801325952\" cx=\"146.0\" r=\"3.39292006588\"/><circle cy=\"94.2801325952\" cx=\"46.0\" r=\"2.8902652413\"/><circle cy=\"103.007997606\" cx=\"48.0\" r=\"3.01592894745\"/><circle cy=\"103.007997606\" cx=\"148.0\" r=\"3.26725635973\"/><circle cy=\"96.9920023945\" cx=\"148.0\" r=\"3.26725635973\"/><circle cy=\"96.9920023945\" cx=\"48.0\" r=\"3.01592894745\"/><circle cy=\"100.0\" cx=\"50.0\" r=\"3.14159265359\"/><circle cy=\"100.0\" cx=\"150.0\" r=\"3.14159265359\"/><circle cy=\"100.0\" cx=\"150.0\" r=\"3.14159265359\"/><circle cy=\"100.0\" cx=\"50.0\" r=\"3.14159265359\"/><circle cy=\"96.7413359273\" cx=\"52.0\" r=\"3.26725635973\"/><circle cy=\"96.7413359273\" cx=\"152.0\" r=\"3.01592894745\"/><circle cy=\"103.258664073\" cx=\"152.0\" r=\"3.01592894745\"/><circle cy=\"103.258664073\" cx=\"52.0\" r=\"3.26725635973\"/><circle cy=\"93.2853730465\" cx=\"54.0\" r=\"3.39292006588\"/><circle cy=\"93.2853730465\" cx=\"154.0\" r=\"2.8902652413\"/><circle cy=\"106.714626953\" cx=\"154.0\" r=\"2.8902652413\"/><circle cy=\"106.714626953\" cx=\"54.0\" r=\"3.39292006588\"/><circle cy=\"89.6925125248\" cx=\"56.0\" r=\"3.51858377202\"/><circle cy=\"89.6925125248\" cx=\"156.0\" r=\"2.76460153516\"/><circle cy=\"110.307487475\" cx=\"156.0\" r=\"2.76460153516\"/><circle cy=\"110.307487475\" cx=\"56.0\" r=\"3.51858377202\"/><circle cy=\"86.0291434511\" cx=\"58.0\" r=\"3.64424747816\"/><circle cy=\"86.0291434511\" cx=\"158.0\" r=\"2.63893782902\"/><circle cy=\"113.970856549\" cx=\"158.0\" r=\"2.63893782902\"/><circle cy=\"113.970856549\" cx=\"58.0\" r=\"3.64424747816\"/><circle cy=\"82.3664424312\" cx=\"60.0\" r=\"3.76991118431\"/><circle cy=\"82.3664424312\" cx=\"160.0\" r=\"2.51327412287\"/><circle cy=\"117.633557569\" cx=\"160.0\" r=\"2.51327412287\"/><circle cy=\"117.633557569\" cx=\"60.0\" r=\"3.76991118431\"/><circle cy=\"78.7790397162\" cx=\"62.0\" r=\"3.89557489045\"/><circle cy=\"78.7790397162\" cx=\"162.0\" r=\"2.38761041673\"/><circle cy=\"121.220960284\" cx=\"162.0\" r=\"2.38761041673\"/><circle cy=\"121.220960284\" cx=\"62.0\" r=\"3.89557489045\"/><circle cy=\"75.3435762312\" cx=\"64.0\" r=\"4.02123859659\"/><circle cy=\"75.3435762312\" cx=\"164.0\" r=\"2.26194671058\"/><circle cy=\"124.656423769\" cx=\"164.0\" r=\"2.26194671058\"/><circle cy=\"124.656423769\" cx=\"64.0\" r=\"4.02123859659\"/><circle cy=\"72.1371784584\" cx=\"66.0\" r=\"4.14690230274\"/><circle cy=\"72.1371784584\" cx=\"166.0\" r=\"2.13628300444\"/><circle cy=\"127.862821542\" cx=\"166.0\" r=\"2.13628300444\"/><circle cy=\"127.862821542\" cx=\"66.0\" r=\"4.14690230274\"/><circle cy=\"69.2358802162\" cx=\"68.0\" r=\"4.27256600888\"/><circle cy=\"69.2358802162\" cx=\"168.0\" r=\"2.0106192983\"/><circle cy=\"130.764119784\" cx=\"168.0\" r=\"2.0106192983\"/><circle cy=\"130.764119784\" cx=\"68.0\" r=\"4.27256600888\"/><circle cy=\"66.7130219297\" cx=\"70.0\" r=\"4.39822971503\"/><circle cy=\"66.7130219297\" cx=\"170.0\" r=\"1.88495559215\"/><circle cy=\"133.28697807\" cx=\"170.0\" r=\"1.88495559215\"/><circle cy=\"133.28697807\" cx=\"70.0\" r=\"4.39822971503\"/><circle cy=\"64.6376589738\" cx=\"72.0\" r=\"4.52389342117\"/><circle cy=\"64.6376589738\" cx=\"172.0\" r=\"1.75929188601\"/><circle cy=\"135.362341026\" cx=\"172.0\" r=\"1.75929188601\"/><circle cy=\"135.362341026\" cx=\"72.0\" r=\"4.52389342117\"/><circle cy=\"63.0730110482\" cx=\"74.0\" r=\"4.64955712731\"/><circle cy=\"63.0730110482\" cx=\"174.0\" r=\"1.63362817987\"/><circle cy=\"136.926988952\" cx=\"174.0\" r=\"1.63362817987\"/><circle cy=\"136.926988952\" cx=\"74.0\" r=\"4.64955712731\"/><circle cy=\"62.0749843197\" cx=\"76.0\" r=\"4.77522083346\"/><circle cy=\"62.0749843197\" cx=\"176.0\" r=\"1.50796447372\"/><circle cy=\"137.92501568\" cx=\"176.0\" r=\"1.50796447372\"/><circle cy=\"137.92501568\" cx=\"76.0\" r=\"4.77522083346\"/><circle cy=\"61.6907972216\" cx=\"78.0\" r=\"4.9008845396\"/><circle cy=\"61.6907972216\" cx=\"178.0\" r=\"1.38230076758\"/><circle cy=\"138.309202778\" cx=\"178.0\" r=\"1.38230076758\"/><circle cy=\"138.309202778\" cx=\"78.0\" r=\"4.9008845396\"/><circle cy=\"61.9577393482\" cx=\"80.0\" r=\"5.02654824574\"/><circle cy=\"61.9577393482\" cx=\"180.0\" r=\"1.25663706144\"/><circle cy=\"138.042260652\" cx=\"180.0\" r=\"1.25663706144\"/><circle cy=\"138.042260652\" cx=\"80.0\" r=\"5.02654824574\"/><circle cy=\"62.9020908489\" cx=\"82.0\" r=\"5.15221195189\"/><circle cy=\"62.9020908489\" cx=\"182.0\" r=\"1.13097335529\"/><circle cy=\"137.097909151\" cx=\"182.0\" r=\"1.13097335529\"/><circle cy=\"137.097909151\" cx=\"82.0\" r=\"5.15221195189\"/><circle cy=\"64.5382271289\" cx=\"84.0\" r=\"5.27787565803\"/><circle cy=\"64.5382271289\" cx=\"184.0\" r=\"1.00530964915\"/><circle cy=\"135.461772871\" cx=\"184.0\" r=\"1.00530964915\"/><circle cy=\"135.461772871\" cx=\"84.0\" r=\"5.27787565803\"/><circle cy=\"66.8679305606\" cx=\"86.0\" r=\"5.40353936417\"/><circle cy=\"66.8679305606\" cx=\"186.0\" r=\"0.879645943005\"/><circle cy=\"133.132069439\" cx=\"186.0\" r=\"0.879645943005\"/><circle cy=\"133.132069439\" cx=\"86.0\" r=\"5.40353936417\"/><circle cy=\"69.8799273391\" cx=\"88.0\" r=\"5.52920307032\"/><circle cy=\"69.8799273391\" cx=\"188.0\" r=\"0.753982236862\"/><circle cy=\"130.120072661\" cx=\"188.0\" r=\"0.753982236862\"/><circle cy=\"130.120072661\" cx=\"88.0\" r=\"5.52920307032\"/><circle cy=\"73.5496636468\" cx=\"90.0\" r=\"5.65486677646\"/><circle cy=\"73.5496636468\" cx=\"190.0\" r=\"0.628318530718\"/><circle cy=\"126.450336353\" cx=\"190.0\" r=\"0.628318530718\"/><circle cy=\"126.450336353\" cx=\"90.0\" r=\"5.65486677646\"/><circle cy=\"77.8393309913\" cx=\"92.0\" r=\"5.78053048261\"/><circle cy=\"77.8393309913\" cx=\"192.0\" r=\"0.502654824574\"/><circle cy=\"122.160669009\" cx=\"192.0\" r=\"0.502654824574\"/><circle cy=\"122.160669009\" cx=\"92.0\" r=\"5.78053048261\"/><circle cy=\"82.6981460238\" cx=\"94.0\" r=\"5.90619418875\"/><circle cy=\"82.6981460238\" cx=\"194.0\" r=\"0.376991118431\"/><circle cy=\"117.301853976\" cx=\"194.0\" r=\"0.376991118431\"/><circle cy=\"117.301853976\" cx=\"94.0\" r=\"5.90619418875\"/><circle cy=\"88.0628854161\" cx=\"96.0\" r=\"6.03185789489\"/><circle cy=\"88.0628854161\" cx=\"196.0\" r=\"0.251327412287\"/><circle cy=\"111.937114584\" cx=\"196.0\" r=\"0.251327412287\"/><circle cy=\"111.937114584\" cx=\"96.0\" r=\"6.03185789489\"/><circle cy=\"93.8586715553\" cx=\"98.0\" r=\"6.15752160104\"/><circle cy=\"93.8586715553\" cx=\"198.0\" r=\"0.125663706144\"/><circle cy=\"106.141328445\" cx=\"198.0\" r=\"0.125663706144\"/><circle cy=\"106.141328445\" cx=\"98.0\" r=\"6.15752160104\"/><circle cy=\"100.0\" cx=\"100.0\" r=\"6.28318530718\"/><circle cy=\"100.0\" cx=\"200.0\" r=\"0.0\"/><circle cy=\"100.0\" cx=\"200.0\" r=\"0.0\"/><circle cy=\"100.0\" cx=\"100.0\" r=\"6.28318530718\"/></svg>"
      ],
      "text/plain": [
       "<remarkuple.svg.svg.<locals>.svg at 0x106951c50>"
      ]
     },
     "execution_count": 26,
     "metadata": {},
     "output_type": "execute_result"
    }
   ],
   "source": [
    "from numpy import linspace, pi, sin, cos\n",
    "s = svg(width=200, height=200)\n",
    "for x, y in enumerate(linspace(-pi, pi, 51)):\n",
    "    s.set_circle(r=y+pi, cx=-100+x*2, cy=sin(y)*x)\n",
    "    s.set_circle(r=pi-y, cx=x*2, cy=sin(y)*x)\n",
    "    s.set_circle(r=pi-y, cx=x*2, cy=-sin(y)*x)\n",
    "    s.set_circle(r=y+pi, cx=-100+x*2, cy=-sin(y)*x)\n",
    "\n",
    "s"
   ]
  },
  {
   "cell_type": "markdown",
   "metadata": {},
   "source": [
    "## The [MIT](http://choosealicense.com/licenses/mit/) License\n",
    "\n",
    "Copyright (c) 2016 Marko Manninen"
   ]
  }
 ],
 "metadata": {
  "kernelspec": {
   "display_name": "Python 3",
   "language": "python",
   "name": "python3"
  },
  "language_info": {
   "codemirror_mode": {
    "name": "ipython",
    "version": 3
   },
   "file_extension": ".py",
   "mimetype": "text/x-python",
   "name": "python",
   "nbconvert_exporter": "python",
   "pygments_lexer": "ipython3",
   "version": "3.5.1"
  }
 },
 "nbformat": 4,
 "nbformat_minor": 0
}
